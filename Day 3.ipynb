{
 "cells": [
  {
   "cell_type": "code",
   "execution_count": 2,
   "metadata": {},
   "outputs": [
    {
     "data": {
      "text/plain": [
       "dict"
      ]
     },
     "execution_count": 2,
     "metadata": {},
     "output_type": "execute_result"
    }
   ],
   "source": [
    "my_dict = {\n",
    "    1:['susmita dangal','Btm','999999999'],\n",
    " \n",
    "}\n",
    "\n",
    "type(my_dict)"
   ]
  },
  {
   "cell_type": "code",
   "execution_count": null,
   "metadata": {},
   "outputs": [],
   "source": []
  },
  {
   "cell_type": "code",
   "execution_count": 3,
   "metadata": {},
   "outputs": [
    {
     "data": {
      "text/plain": [
       "['Aarav Poudel', 'Biratnagar', '999999999']"
      ]
     },
     "execution_count": 3,
     "metadata": {},
     "output_type": "execute_result"
    }
   ],
   "source": [
    "my_dict[1]"
   ]
  },
  {
   "cell_type": "code",
   "execution_count": 4,
   "metadata": {},
   "outputs": [],
   "source": [
    "my_dict[3]=['Sushat Shah','Dharan','9999999']"
   ]
  },
  {
   "cell_type": "code",
   "execution_count": 5,
   "metadata": {},
   "outputs": [
    {
     "name": "stdout",
     "output_type": "stream",
     "text": [
      "{1: ['Aarav Poudel', 'Biratnagar', '999999999'], 2: ['Bises Adhikari', 'Damak', '999999'], 3: ['Sushat Shah', 'Dharan', '9999999']}\n"
     ]
    }
   ],
   "source": [
    "print(my_dict)"
   ]
  },
  {
   "cell_type": "markdown",
   "metadata": {},
   "source": [
    "Promt user to enter information of 10 students\n",
    "Store the information in dictionary with Roll number as key\n",
    "Store full name, address, email and contact as value"
   ]
  },
  {
   "cell_type": "code",
   "execution_count": 20,
   "metadata": {},
   "outputs": [
    {
     "name": "stdout",
     "output_type": "stream",
     "text": [
      "{'1': {'full name': 'dfdfs', 'address': 'dsfdsf', 'email': 'sdfds', 'contact': 'dsdsf'}, '2': {'full name': 'sdfdsf', 'address': 'sdfsdf', 'email': 'fdsfsd', 'contact': 'sdfdfs'}}\n"
     ]
    }
   ],
   "source": [
    "info = {}\n",
    "\n",
    "for i in range(2):\n",
    "    roll_no = input(\"Enter your roll number:\")\n",
    "    full_name = input('Enter your full name:')\n",
    "    address = input(\"Enter your address:\")\n",
    "    email = input(\"Enter your email:\")\n",
    "    contact = input(\"Enter your contact:\")\n",
    "    info[roll_no]={'full name':full_name,'address':address,'email':email,'contact':contact}\n",
    "\n",
    "print(info)"
   ]
  },
  {
   "cell_type": "code",
   "execution_count": 15,
   "metadata": {},
   "outputs": [
    {
     "name": "stdout",
     "output_type": "stream",
     "text": [
      "{1: ['Aarav Poudel', 'Biratnagar', '999999999'], 2: ['Bises Adhikari', 'Damak', '999999'], 3: ['Sushat Shah', 'Dharan', '9999999']}\n",
      "['Sushat Shah', 'Dharan', '9999999']\n"
     ]
    }
   ],
   "source": [
    "print(my_dict)\n",
    "job = my_dict.pop(3)\n",
    "print(job)"
   ]
  },
  {
   "cell_type": "code",
   "execution_count": 16,
   "metadata": {},
   "outputs": [
    {
     "data": {
      "text/plain": [
       "{1: ['Aarav Poudel', 'Biratnagar', '999999999'],\n",
       " 2: ['Bises Adhikari', 'Damak', '999999']}"
      ]
     },
     "execution_count": 16,
     "metadata": {},
     "output_type": "execute_result"
    }
   ],
   "source": [
    "my_dict"
   ]
  },
  {
   "cell_type": "code",
   "execution_count": 17,
   "metadata": {},
   "outputs": [
    {
     "name": "stdout",
     "output_type": "stream",
     "text": [
      "1 ['Aarav Poudel', 'Biratnagar', '999999999']\n",
      "2 ['Bises Adhikari', 'Damak', '999999']\n"
     ]
    }
   ],
   "source": [
    "for i in my_dict:\n",
    "    print(i, my_dict[i])"
   ]
  },
  {
   "cell_type": "code",
   "execution_count": 18,
   "metadata": {},
   "outputs": [
    {
     "name": "stdout",
     "output_type": "stream",
     "text": [
      "['Aarav Poudel', 'Biratnagar', '999999999']\n",
      "['Bises Adhikari', 'Damak', '999999']\n"
     ]
    }
   ],
   "source": [
    "for i in my_dict.values():\n",
    "    print(i)"
   ]
  },
  {
   "cell_type": "code",
   "execution_count": 19,
   "metadata": {},
   "outputs": [
    {
     "name": "stdout",
     "output_type": "stream",
     "text": [
      "1\n",
      "['Aarav Poudel', 'Biratnagar', '999999999']\n",
      "2\n",
      "['Bises Adhikari', 'Damak', '999999']\n"
     ]
    }
   ],
   "source": [
    "for key,value in my_dict.items():\n",
    "    print(key)\n",
    "    print(value)"
   ]
  },
  {
   "cell_type": "markdown",
   "metadata": {},
   "source": [
    "{\n",
    "roll_np : {'name':} \n",
    "}\n",
    "1_dict[1][name]"
   ]
  },
  {
   "cell_type": "code",
   "execution_count": 27,
   "metadata": {},
   "outputs": [
    {
     "data": {
      "text/plain": [
       "'dfdfs'"
      ]
     },
     "execution_count": 27,
     "metadata": {},
     "output_type": "execute_result"
    }
   ],
   "source": [
    "info['1']['full name']"
   ]
  },
  {
   "cell_type": "code",
   "execution_count": 37,
   "metadata": {},
   "outputs": [
    {
     "name": "stdout",
     "output_type": "stream",
     "text": [
      "Hello and Namaste, Saroj Baniya\n"
     ]
    }
   ],
   "source": [
    "def greetings(name,surname=''):\n",
    "    print(f\"Hello and Namaste, {name} {surname}\")\n",
    "\n",
    "greetings(surname='Baniya',name='Saroj')"
   ]
  },
  {
   "cell_type": "code",
   "execution_count": 40,
   "metadata": {},
   "outputs": [
    {
     "data": {
      "text/plain": [
       "16"
      ]
     },
     "execution_count": 40,
     "metadata": {},
     "output_type": "execute_result"
    }
   ],
   "source": [
    "def square(num):\n",
    "    y = num*num\n",
    "    return y\n",
    "    print(\"Ths is rubish\")\n",
    "\n",
    "square(4)"
   ]
  },
  {
   "cell_type": "code",
   "execution_count": 42,
   "metadata": {},
   "outputs": [
    {
     "name": "stdout",
     "output_type": "stream",
     "text": [
      "<class 'tuple'>\n"
     ]
    }
   ],
   "source": [
    "def sum(*num):\n",
    "    print(type(num))\n",
    "\n",
    "sum(2,3,4,5,3,4,5,6,7)"
   ]
  },
  {
   "cell_type": "code",
   "execution_count": 50,
   "metadata": {},
   "outputs": [
    {
     "name": "stdout",
     "output_type": "stream",
     "text": [
      "There is a error\n",
      "Code is tested\n"
     ]
    }
   ],
   "source": [
    "try:\n",
    "    div = 1/0\n",
    "except ZeroDivisionError:\n",
    "    print('There is a error')\n",
    "except IndentationError:\n",
    "    print('Indendation error vayo hai')\n",
    "else:\n",
    "    print('Code succesfully compiled')\n",
    "finally:\n",
    "    print('Code is tested')"
   ]
  },
  {
   "cell_type": "code",
   "execution_count": 51,
   "metadata": {},
   "outputs": [
    {
     "ename": "ZeroDivisionError",
     "evalue": "division by zero",
     "output_type": "error",
     "traceback": [
      "\u001b[1;31m---------------------------------------------------------------------------\u001b[0m",
      "\u001b[1;31mZeroDivisionError\u001b[0m                         Traceback (most recent call last)",
      "Cell \u001b[1;32mIn[51], line 1\u001b[0m\n\u001b[1;32m----> 1\u001b[0m \u001b[38;5;241;43m1\u001b[39;49m\u001b[38;5;241;43m/\u001b[39;49m\u001b[38;5;241;43m0\u001b[39;49m\n",
      "\u001b[1;31mZeroDivisionError\u001b[0m: division by zero"
     ]
    }
   ],
   "source": [
    "1/0"
   ]
  },
  {
   "cell_type": "code",
   "execution_count": null,
   "metadata": {},
   "outputs": [],
   "source": []
  }
 ],
 "metadata": {
  "kernelspec": {
   "display_name": "Python 3",
   "language": "python",
   "name": "python3"
  },
  "language_info": {
   "codemirror_mode": {
    "name": "ipython",
    "version": 3
   },
   "file_extension": ".py",
   "mimetype": "text/x-python",
   "name": "python",
   "nbconvert_exporter": "python",
   "pygments_lexer": "ipython3",
   "version": "3.12.3"
  }
 },
 "nbformat": 4,
 "nbformat_minor": 2
}
