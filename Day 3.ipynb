{
 "cells": [
  {
   "cell_type": "code",
   "execution_count": 1,
   "metadata": {},
   "outputs": [
    {
     "data": {
      "text/plain": [
       "dict"
      ]
     },
     "execution_count": 1,
     "metadata": {},
     "output_type": "execute_result"
    }
   ],
   "source": [
    "my_dict = {\n",
    "    1:['susmita dangal','pdm','u8768777777'],\n",
    "    2:['prajita thapa','btm','6557777778']\n",
    "}\n",
    "\n",
    "type(my_dict)"
   ]
  },
  {
   "cell_type": "code",
   "execution_count": 2,
   "metadata": {},
   "outputs": [
    {
     "data": {
      "text/plain": [
       "['susmita dangal', 'pdm', 'u8768777777']"
      ]
     },
     "execution_count": 2,
     "metadata": {},
     "output_type": "execute_result"
    }
   ],
   "source": [
    "my_dict[1]"
   ]
  },
  {
   "cell_type": "code",
   "execution_count": 4,
   "metadata": {},
   "outputs": [],
   "source": [
    "my_dict[3]=['prajwal','btm','56357']"
   ]
  },
  {
   "cell_type": "code",
   "execution_count": 3,
   "metadata": {},
   "outputs": [
    {
     "name": "stdout",
     "output_type": "stream",
     "text": [
      "{1: ['susmita dangal', 'pdm', 'u8768777777'], 2: ['prajita thapa', 'btm', '6557777778']}\n"
     ]
    }
   ],
   "source": [
    "print(my_dict)"
   ]
  },
  {
   "cell_type": "markdown",
   "metadata": {},
   "source": [
    "Promt user to enter information of 10 students\n",
    "Store the information in dictionary with Roll number as key\n",
    "Store full name, address, email and contact as value"
   ]
  },
  {
   "cell_type": "code",
   "execution_count": 20,
   "metadata": {},
   "outputs": [
    {
     "name": "stdout",
     "output_type": "stream",
     "text": [
      "{'1': {'full name': 'dfdfs', 'address': 'dsfdsf', 'email': 'sdfds', 'contact': 'dsdsf'}, '2': {'full name': 'sdfdsf', 'address': 'sdfsdf', 'email': 'fdsfsd', 'contact': 'sdfdfs'}}\n"
     ]
    }
   ],
   "source": [
    "info = {}\n",
    "\n",
    "for i in range(2):\n",
    "    roll_no = input(\"Enter your roll number:\")\n",
    "    full_name = input('Enter your full name:')\n",
    "    address = input(\"Enter your address:\")\n",
    "    email = input(\"Enter your email:\")\n",
    "    contact = input(\"Enter your contact:\")\n",
    "    info[roll_no]={'full name':full_name,'address':address,'email':email,'contact':contact}\n",
    "\n",
    "print(info)"
   ]
  },
  {
   "cell_type": "code",
   "execution_count": 5,
   "metadata": {},
   "outputs": [
    {
     "data": {
      "text/plain": [
       "{1: ['susmita dangal', 'pdm', 'u8768777777'],\n",
       " 2: ['prajita thapa', 'btm', '6557777778']}"
      ]
     },
     "execution_count": 5,
     "metadata": {},
     "output_type": "execute_result"
    }
   ],
   "source": [
    "my_dict"
   ]
  },
  {
   "cell_type": "code",
   "execution_count": 6,
   "metadata": {},
   "outputs": [
    {
     "name": "stdout",
     "output_type": "stream",
     "text": [
      "1 ['susmita dangal', 'pdm', 'u8768777777']\n",
      "2 ['prajita thapa', 'btm', '6557777778']\n"
     ]
    }
   ],
   "source": [
    "for i in my_dict:\n",
    "    print(i, my_dict[i])"
   ]
  },
  {
   "cell_type": "code",
   "execution_count": 7,
   "metadata": {},
   "outputs": [
    {
     "name": "stdout",
     "output_type": "stream",
     "text": [
      "['susmita dangal', 'pdm', 'u8768777777']\n",
      "['prajita thapa', 'btm', '6557777778']\n"
     ]
    }
   ],
   "source": [
    "for i in my_dict.values():\n",
    "    print(i)"
   ]
  },
  {
   "cell_type": "code",
   "execution_count": 8,
   "metadata": {},
   "outputs": [
    {
     "name": "stdout",
     "output_type": "stream",
     "text": [
      "1\n",
      "['susmita dangal', 'pdm', 'u8768777777']\n",
      "2\n",
      "['prajita thapa', 'btm', '6557777778']\n"
     ]
    }
   ],
   "source": [
    "for key,value in my_dict.items():\n",
    "    print(key)\n",
    "    print(value)"
   ]
  },
  {
   "cell_type": "markdown",
   "metadata": {},
   "source": [
    "{\n",
    "roll_np : {'name':} \n",
    "}\n",
    "1_dict[1][name]"
   ]
  },
  {
   "cell_type": "code",
   "execution_count": 10,
   "metadata": {},
   "outputs": [
    {
     "name": "stdout",
     "output_type": "stream",
     "text": [
      "Hello and Namaste, Susmita dangal\n"
     ]
    }
   ],
   "source": [
    "def greetings(name,surname=''):\n",
    "    print(f\"Hello and Namaste, {name} {surname}\")\n",
    "\n",
    "greetings(surname='dangal',name='Susmita')"
   ]
  },
  {
   "cell_type": "code",
   "execution_count": 40,
   "metadata": {},
   "outputs": [
    {
     "data": {
      "text/plain": [
       "16"
      ]
     },
     "execution_count": 40,
     "metadata": {},
     "output_type": "execute_result"
    }
   ],
   "source": [
    "def square(num):\n",
    "    y = num*num\n",
    "    return y\n",
    "    print(\"Ths is rubish\")\n",
    "\n",
    "square(4)"
   ]
  },
  {
   "cell_type": "code",
   "execution_count": 42,
   "metadata": {},
   "outputs": [
    {
     "name": "stdout",
     "output_type": "stream",
     "text": [
      "<class 'tuple'>\n"
     ]
    }
   ],
   "source": [
    "def sum(*num):\n",
    "    print(type(num))\n",
    "\n",
    "sum(2,3,4,5,3,4,5,6,7)"
   ]
  },
  {
   "cell_type": "code",
   "execution_count": 50,
   "metadata": {},
   "outputs": [
    {
     "name": "stdout",
     "output_type": "stream",
     "text": [
      "There is a error\n",
      "Code is tested\n"
     ]
    }
   ],
   "source": [
    "try:\n",
    "    div = 1/0\n",
    "except ZeroDivisionError:\n",
    "    print('There is a error')\n",
    "except IndentationError:\n",
    "    print('Indendation error ')\n",
    "else:\n",
    "    print('Code succesfully compiled')\n",
    "finally:\n",
    "    print('Code is tested')"
   ]
  },
  {
   "cell_type": "code",
   "execution_count": null,
   "metadata": {},
   "outputs": [],
   "source": [
    "# Dictionary to store student details\n",
    "students = {}\n",
    "\n",
    "def add_student(rollno, name, address, contact):\n",
    "    students[rollno] = {\n",
    "        'name': name,\n",
    "        'address': address,\n",
    "        'contact': contact\n",
    "    }\n",
    "    print(f\"Student {name} added successfully.\")\n",
    "\n",
    "def update_student(rollno, name=None, address=None, contact=None):\n",
    "    if rollno in students:\n",
    "        if name:\n",
    "            students[rollno]['name'] = name\n",
    "        if address:\n",
    "            students[rollno]['address'] = address\n",
    "        if contact:\n",
    "            students[rollno]['contact'] = contact\n",
    "        print(f\"Student with roll number {rollno} updated successfully.\")\n",
    "    else:\n",
    "        print(f\"Student with roll number {rollno} not found.\")\n",
    "\n",
    "def search_student(rollno):\n",
    "    if rollno in students:\n",
    "        return students[rollno]\n",
    "    else:\n",
    "        print(f\"Student with roll number {rollno} not found.\")\n",
    "        return None\n",
    "\n",
    "def delete_student(rollno):\n",
    "    if rollno in students:\n",
    "        del students[rollno]\n",
    "        print(f\"Student with roll number {rollno} deleted successfully.\")\n",
    "    else:\n",
    "        print(f\"Student with roll number {rollno} not found.\")\n",
    "\n",
    "def main():\n",
    "    while True:\n",
    "        print(\"\\nOptions:\")\n",
    "        print(\"1. Add Student\")\n",
    "        print(\"2. Update Student\")\n",
    "        print(\"3. Search Student\")\n",
    "        print(\"4. Delete Student\")\n",
    "        print(\"5. Exit\")\n",
    "\n",
    "        choice = input(\"Enter your choice: \")\n",
    "\n",
    "        if choice == '1':\n",
    "            rollno = input(\"Enter roll number: \")\n",
    "            name = input(\"Enter name: \")\n",
    "            address = input(\"Enter address: \")\n",
    "            contact = input(\"Enter contact: \")\n",
    "            add_student(rollno, name, address, contact)\n",
    "        elif choice == '2':\n",
    "            rollno = input(\"Enter roll number: \")\n",
    "            name = input(\"Enter new name (leave blank to skip): \")\n",
    "            address = input(\"Enter new address (leave blank to skip): \")\n",
    "            contact = input(\"Enter new contact (leave blank to skip): \")\n",
    "            update_student(rollno, name if name else None, address if address else None, contact if contact else None)\n",
    "        elif choice == '3':\n",
    "            rollno = input(\"Enter roll number: \")\n",
    "            student = search_student(rollno)\n",
    "            if student:\n",
    "                print(f\"Details of roll number {rollno}: {student}\")\n",
    "        elif choice == '4':\n",
    "            rollno = input(\"Enter roll number: \")\n",
    "            delete_student(rollno)\n",
    "        elif choice == '5':\n",
    "            break\n",
    "        else:\n",
    "            print(\"Invalid choice. Please try again.\")\n",
    "\n",
    "if __name__ == \"__main__\":\n",
    "    main()\n",
    "\n",
    "\n"
   ]
  }
 ],
 "metadata": {
  "kernelspec": {
   "display_name": "Python 3",
   "language": "python",
   "name": "python3"
  },
  "language_info": {
   "codemirror_mode": {
    "name": "ipython",
    "version": 3
   },
   "file_extension": ".py",
   "mimetype": "text/x-python",
   "name": "python",
   "nbconvert_exporter": "python",
   "pygments_lexer": "ipython3",
   "version": "3.12.3"
  }
 },
 "nbformat": 4,
 "nbformat_minor": 2
}
