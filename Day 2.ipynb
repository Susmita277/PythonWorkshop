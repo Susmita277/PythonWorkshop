{
 "cells": [
  {
   "cell_type": "code",
   "execution_count": 2,
   "metadata": {},
   "outputs": [
    {
     "name": "stdout",
     "output_type": "stream",
     "text": [
      "{'m', 'e', 'G', 'r', 'a', 'o', 'd', 'n'}\n"
     ]
    }
   ],
   "source": [
    "name = 'Gomendra '\n",
    "print(set(name.strip()))"
   ]
  },
  {
   "cell_type": "code",
   "execution_count": 3,
   "metadata": {},
   "outputs": [
    {
     "name": "stdout",
     "output_type": "stream",
     "text": [
      "Satement\n"
     ]
    }
   ],
   "source": [
    "if \"conditional statement1\":\n",
    "    print('Statement')\n",
    "elif \"conditional statement2\":\n",
    "    print('Statement2')\n",
    "else:\n",
    "    "
   ]
  },
  {
   "cell_type": "markdown",
   "metadata": {},
   "source": [
    "Input 3 number from user and find the largest one"
   ]
  },
  {
   "cell_type": "code",
   "execution_count": 4,
   "metadata": {},
   "outputs": [
    {
     "name": "stdout",
     "output_type": "stream",
     "text": [
      "Largest number is 5\n"
     ]
    }
   ],
   "source": [
    "x = int(input('Enter a number'))\n",
    "y = int(input('ENter another number:'))\n",
    "z = int(input(\"Enter third number\"))\n",
    "\n",
    "if x>z:\n",
    "    if x>y:\n",
    "        print(f'Largest number is {x} ')\n",
    "    else:\n",
    "        print(f'Largest number is {y} ')\n",
    "else:\n",
    "    if z>y:\n",
    "       print(f'Largest number is {z} ')\n",
    "    else:\n",
    "        print(f'Largest number is {y}') \n"
   ]
  },
  {
   "cell_type": "markdown",
   "metadata": {},
   "source": [
    "Input 5 numbers form user and find the largest one\n",
    "Use all the technique you have learned till now"
   ]
  },
  {
   "cell_type": "code",
   "execution_count": null,
   "metadata": {},
   "outputs": [],
   "source": [
    "my_list = []\n",
    "for i in range(5):\n",
    "    my_list.append(int(input('Enter a number')))\n",
    "\n",
    "\n",
    "my_list.sort()\n"
   ]
  },
  {
   "cell_type": "code",
   "execution_count": 5,
   "metadata": {},
   "outputs": [
    {
     "name": "stdout",
     "output_type": "stream",
     "text": [
      "0\n",
      "1\n",
      "2\n",
      "3\n",
      "4\n",
      "5\n",
      "6\n",
      "7\n",
      "8\n",
      "9\n"
     ]
    }
   ],
   "source": [
    "for i in range(10):\n",
    "    print(i)"
   ]
  },
  {
   "cell_type": "code",
   "execution_count": 1,
   "metadata": {},
   "outputs": [
    {
     "name": "stdout",
     "output_type": "stream",
     "text": [
      "{' ', 't', 'd', 'l', 'i', 's', 'a', 'm', 'n', 'g', 'u'}\n",
      "susmita dangal\n",
      "Number of unique character in the full name is 11\n"
     ]
    }
   ],
   "source": [
    "full_name = input('Enter your full name')\n",
    "full_name_1 = full_name.lower()\n",
    "full_name_2 = full_name_1.strip()\n",
    "set_1 = set(full_name_2)\n",
    "no_charcters = len(set_1)\n",
    "print(set_1)\n",
    "print(full_name)\n",
    "print(f'Number of unique character in the full name is {no_charcters}')"
   ]
  },
  {
   "cell_type": "code",
   "execution_count": 11,
   "metadata": {},
   "outputs": [
    {
     "name": "stdout",
     "output_type": "stream",
     "text": [
      "{'e', 'l', 'u', 'r', 'a', 'p', 'o', 'd', 'v'}\n"
     ]
    }
   ],
   "source": [
    "set_2 = set()\n",
    "for i in set_1:\n",
    "    if i == ' ':\n",
    "        continue\n",
    "    set_2.add(i)\n",
    "\n",
    "print(set_2)"
   ]
  },
  {
   "cell_type": "code",
   "execution_count": 13,
   "metadata": {},
   "outputs": [
    {
     "name": "stdout",
     "output_type": "stream",
     "text": [
      "15\n"
     ]
    }
   ],
   "source": [
    "my_list = []\n",
    "for i in range(5):\n",
    "    my_list.append(int(input('Enter a number')))\n",
    "\n",
    "sum_num = 0 \n",
    "for i in my_list:\n",
    "    sum_num = sum_num+i\n",
    "\n",
    "print(sum_num)"
   ]
  },
  {
   "cell_type": "code",
   "execution_count": null,
   "metadata": {},
   "outputs": [],
   "source": [
    "while \"conditional statement\":\n",
    "    "
   ]
  },
  {
   "cell_type": "markdown",
   "metadata": {},
   "source": [
    "Promt user to input number\n",
    "if character is entered stop promting user to enter number \n",
    "print the list"
   ]
  },
  {
   "cell_type": "code",
   "execution_count": 15,
   "metadata": {},
   "outputs": [
    {
     "name": "stdout",
     "output_type": "stream",
     "text": [
      "['1', '2', '3', '4']\n"
     ]
    }
   ],
   "source": [
    "number = input('Enter a number: ')\n",
    "my_list=[]\n",
    "\n",
    "while number.isdigit():\n",
    "    my_list.append(number)\n",
    "    number = input('Enter a number: ')\n",
    "\n",
    "print(my_list)"
   ]
  },
  {
   "cell_type": "code",
   "execution_count": 5,
   "metadata": {},
   "outputs": [
    {
     "name": "stdout",
     "output_type": "stream",
     "text": [
      "{'3': ['susmita', 'pjhj', 'susmua'], '4': ['nnjsj', 'vhdbfj', 'jbdbkdvb'], '5': ['dhbb', 'phnbv', 'dnbvjd'], '6': ['bvdnbv', 'bcdbv', 'bjjvdbmv']}\n"
     ]
    }
   ],
   "source": [
    "my_dict = {}\n",
    "for i in range(5):\n",
    " roll_no = input('enter your roll')\n",
    " full_name = input('enter your name')\n",
    " address= input('enter your address')\n",
    " email= input('enter your email')\n",
    " my_dict[roll_no]=[full_name,address,email]\n",
    " print(my_dict)\n",
    "\n",
    "\n",
    "\n"
   ]
  },
  {
   "cell_type": "code",
   "execution_count": 12,
   "metadata": {},
   "outputs": [],
   "source": [
    "# my_dict.pop(3)"
   ]
  },
  {
   "cell_type": "code",
   "execution_count": 13,
   "metadata": {},
   "outputs": [
    {
     "name": "stdout",
     "output_type": "stream",
     "text": [
      "4 ['nnjsj', 'vhdbfj', 'jbdbkdvb']\n",
      "5 ['dhbb', 'phnbv', 'dnbvjd']\n",
      "6 ['bvdnbv', 'bcdbv', 'bjjvdbmv']\n"
     ]
    }
   ],
   "source": [
    "for i in my_dict:\n",
    "    print(i,my_dict[i])"
   ]
  },
  {
   "cell_type": "code",
   "execution_count": 14,
   "metadata": {},
   "outputs": [
    {
     "name": "stdout",
     "output_type": "stream",
     "text": [
      "4\n",
      "['nnjsj', 'vhdbfj', 'jbdbkdvb']\n",
      "5\n",
      "['dhbb', 'phnbv', 'dnbvjd']\n",
      "6\n",
      "['bvdnbv', 'bcdbv', 'bjjvdbmv']\n"
     ]
    }
   ],
   "source": [
    "for key,value in my_dict.items():\n",
    "    print(key)\n",
    "    print(value)\n"
   ]
  },
  {
   "cell_type": "code",
   "execution_count": 19,
   "metadata": {},
   "outputs": [
    {
     "name": "stdout",
     "output_type": "stream",
     "text": [
      "{'2': {'full name': 'susmita', 'address': 'phj', 'email': 'sjbbc'}, '3': {'full name': 'bdjcb', 'address': 'dhvb', 'email': 'dhfj'}}\n"
     ]
    }
   ],
   "source": [
    "info = {}\n",
    "for i in range(2):\n",
    " roll_no = input('enter your roll')\n",
    " full_name = input('enter your name')\n",
    " address= input('enter your address')\n",
    " email= input('enter your email')\n",
    " info[roll_no]={'full name':full_name,'address':address,'email':email}\n",
    "print(info)"
   ]
  },
  {
   "cell_type": "code",
   "execution_count": 23,
   "metadata": {},
   "outputs": [
    {
     "name": "stdout",
     "output_type": "stream",
     "text": [
      "hey i am,susmita \n"
     ]
    }
   ],
   "source": [
    "def grettings(name,surname=''):\n",
    "    print(f\"hey i am,{name} {surname}\")\n",
    "\n",
    "grettings('susmita')"
   ]
  },
  {
   "cell_type": "code",
   "execution_count": 24,
   "metadata": {},
   "outputs": [
    {
     "data": {
      "text/plain": [
       "16"
      ]
     },
     "execution_count": 24,
     "metadata": {},
     "output_type": "execute_result"
    }
   ],
   "source": [
    "def square(num):\n",
    "    y=num*num\n",
    "    return y\n",
    "\n",
    "square(4)"
   ]
  },
  {
   "cell_type": "code",
   "execution_count": 27,
   "metadata": {},
   "outputs": [
    {
     "name": "stdout",
     "output_type": "stream",
     "text": [
      "<class 'tuple'>\n"
     ]
    }
   ],
   "source": [
    "# arbitray paremeter\n",
    "def sum(*num):\n",
    "  print(type(num))\n",
    "sum(2,3,4,5,5)"
   ]
  },
  {
   "cell_type": "code",
   "execution_count": 29,
   "metadata": {},
   "outputs": [],
   "source": [
    "# def sum(*num):\n",
    "#   for i in num:\n",
    "#    no=sum+num\n",
    "#   return no\n",
    "\n",
    "# sum(2,3,4,5,5)"
   ]
  },
  {
   "cell_type": "code",
   "execution_count": 3,
   "metadata": {},
   "outputs": [
    {
     "name": "stdout",
     "output_type": "stream",
     "text": [
      "\n",
      "Options:\n",
      "1. Add Student\n",
      "2. Update Student\n",
      "3. Search Student\n",
      "4. Delete Student\n",
      "5. Exit\n",
      "Student with roll number 3 not found.\n",
      "\n",
      "Options:\n",
      "1. Add Student\n",
      "2. Update Student\n",
      "3. Search Student\n",
      "4. Delete Student\n",
      "5. Exit\n"
     ]
    }
   ],
   "source": [
    "# Dictionary to store student details\n",
    "students = {}\n",
    "\n",
    "def add_student(rollno, name, address, contact):\n",
    "    students[rollno] = {\n",
    "        'name': name,\n",
    "        'address': address,\n",
    "        'contact': contact\n",
    "    }\n",
    "    print(f\"Student {name} added successfully.\")\n",
    "\n",
    "def update_student(rollno, name=None, address=None, contact=None):\n",
    "    if rollno in students:\n",
    "        if name:\n",
    "            students[rollno]['name'] = name\n",
    "        if address:\n",
    "            students[rollno]['address'] = address\n",
    "        if contact:\n",
    "            students[rollno]['contact'] = contact\n",
    "        print(f\"Student with roll number {rollno} updated successfully.\")\n",
    "    else:\n",
    "        print(f\"Student with roll number {rollno} not found.\")\n",
    "\n",
    "def search_student(rollno):\n",
    "    if rollno in students:\n",
    "        return students[rollno]\n",
    "    else:\n",
    "        print(f\"Student with roll number {rollno} not found.\")\n",
    "        return None\n",
    "\n",
    "def delete_student(rollno):\n",
    "    if rollno in students:\n",
    "        del students[rollno]\n",
    "        print(f\"Student with roll number {rollno} deleted successfully.\")\n",
    "    else:\n",
    "        print(f\"Student with roll number {rollno} not found.\")\n",
    "\n",
    "def main():\n",
    "    while True:\n",
    "        print(\"\\nOptions:\")\n",
    "        print(\"1. Add Student\")\n",
    "        print(\"2. Update Student\")\n",
    "        print(\"3. Search Student\")\n",
    "        print(\"4. Delete Student\")\n",
    "        print(\"5. Exit\")\n",
    "\n",
    "        choice = input(\"Enter your choice: \")\n",
    "\n",
    "        if choice == '1':\n",
    "            rollno = input(\"Enter roll number: \")\n",
    "            name = input(\"Enter name: \")\n",
    "            address = input(\"Enter address: \")\n",
    "            contact = input(\"Enter contact: \")\n",
    "            add_student(rollno, name, address, contact)\n",
    "        elif choice == '2':\n",
    "            rollno = input(\"Enter roll number: \")\n",
    "            name = input(\"Enter new name (leave blank to skip): \")\n",
    "            address = input(\"Enter new address (leave blank to skip): \")\n",
    "            contact = input(\"Enter new contact (leave blank to skip): \")\n",
    "            update_student(rollno, name if name else None, address if address else None, contact if contact else None)\n",
    "        elif choice == '3':\n",
    "            rollno = input(\"Enter roll number: \")\n",
    "            student = search_student(rollno)\n",
    "            if student:\n",
    "                print(f\"Details of roll number {rollno}: {student}\")\n",
    "        elif choice == '4':\n",
    "            rollno = input(\"Enter roll number: \")\n",
    "            delete_student(rollno)\n",
    "        elif choice == '5':\n",
    "            break\n",
    "        else:\n",
    "            print(\"Invalid choice. Please try again.\")\n",
    "\n",
    "if __name__ == \"__main__\":\n",
    "    main()\n",
    "\n",
    "\n"
   ]
  },
  {
   "cell_type": "code",
   "execution_count": 35,
   "metadata": {},
   "outputs": [],
   "source": [
    "\n",
    "# add_contact.update(name,email,phone)\n",
    "\n",
    "    "
   ]
  },
  {
   "cell_type": "code",
   "execution_count": 39,
   "metadata": {},
   "outputs": [
    {
     "name": "stdout",
     "output_type": "stream",
     "text": [
      "code successfully comiled\n",
      "program executed\n"
     ]
    }
   ],
   "source": [
    "# try:\n",
    "#     div = 1/1\n",
    "# except ZeroDivisionError:\n",
    "#     print('this is error')\n",
    "# except IndentationError:\n",
    "#     print('this is indentation error')\n",
    "# else:\n",
    "#     print('code successfully comiled')\n",
    "# finally:\n",
    "#     print('program executed')"
   ]
  },
  {
   "cell_type": "code",
   "execution_count": null,
   "metadata": {},
   "outputs": [],
   "source": []
  }
 ],
 "metadata": {
  "kernelspec": {
   "display_name": "Python 3",
   "language": "python",
   "name": "python3"
  },
  "language_info": {
   "codemirror_mode": {
    "name": "ipython",
    "version": 3
   },
   "file_extension": ".py",
   "mimetype": "text/x-python",
   "name": "python",
   "nbconvert_exporter": "python",
   "pygments_lexer": "ipython3",
   "version": "3.12.3"
  }
 },
 "nbformat": 4,
 "nbformat_minor": 2
}
