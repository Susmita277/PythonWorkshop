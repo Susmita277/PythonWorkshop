{
 "cells": [
  {
   "cell_type": "code",
   "execution_count": null,
   "metadata": {},
   "outputs": [],
   "source": [
    "\n",
    "# file= open(\"Day4.txt\",'r')\n",
    "# content = file.read()\n",
    "# file.close()\n",
    "# print(content)\n",
    "# print.close()\n"
   ]
  },
  {
   "cell_type": "code",
   "execution_count": null,
   "metadata": {},
   "outputs": [],
   "source": [
    "#we use with method   close file automatically\n",
    "with open (\"Day4.txt\",'r') as file:\n",
    "    content= file.read()\n",
    "    print(content)"
   ]
  },
  {
   "cell_type": "code",
   "execution_count": null,
   "metadata": {},
   "outputs": [],
   "source": [
    "#modes of files\n",
    "# 'r'= read mode\n",
    "# 'w'= write mode\n",
    "# 'a'= append mode\n",
    "# 'r+'= read and write\n",
    "# 'w+'= write and read\n",
    "# 'a+'= append and read\n",
    "# 'b'= binary mode"
   ]
  },
  {
   "cell_type": "code",
   "execution_count": null,
   "metadata": {},
   "outputs": [],
   "source": [
    "with open (\"example.txt\",'w') as file2:\n",
    "    content= file2.write('hello')\n",
    "    print(content)"
   ]
  },
  {
   "cell_type": "code",
   "execution_count": null,
   "metadata": {},
   "outputs": [],
   "source": [
    "with open(\"example.txt\",'a') as file2:\n",
    "    content= file2.write('iam susmita hgjsdgfhs')\n",
    "    print(content)"
   ]
  },
  {
   "cell_type": "code",
   "execution_count": null,
   "metadata": {},
   "outputs": [],
   "source": [
    "image = \"images/download.jfif\"\n",
    "with open(image,'rb') as file2:\n",
    "    content= file2.read()\n",
    "print(content)"
   ]
  },
  {
   "cell_type": "code",
   "execution_count": null,
   "metadata": {},
   "outputs": [],
   "source": [
    "#to write binary file wb is used"
   ]
  },
  {
   "cell_type": "code",
   "execution_count": 39,
   "metadata": {},
   "outputs": [],
   "source": [
    "#generate question for file handling\n",
    "students = [\n",
    "        (\"susmita\",86),\n",
    "        (\"prajita\",30),\n",
    "        (\"rahul\",78)\n",
    "  ]\n",
    "\n",
    "with open (\"students.txt\",'w') as file:\n",
    "    for name,marks in students: \n",
    "        file.write(f'name:{name},marks:{marks}')\n",
    "        "
   ]
  },
  {
   "cell_type": "code",
   "execution_count": 50,
   "metadata": {},
   "outputs": [
    {
     "name": "stdout",
     "output_type": "stream",
     "text": [
      "read succesfully\n"
     ]
    }
   ],
   "source": [
    "a=input('enter a file')\n",
    "try:\n",
    "    with open(a,\"r\") as file:\n",
    "      content= file.read()\n",
    "except FileNotFoundError as e:\n",
    "    print(f\"error{e}\")\n",
    "else:\n",
    "    print(\"read succesfully\")\n",
    "\n",
    "    \n",
    "\n",
    "    "
   ]
  },
  {
   "cell_type": "code",
   "execution_count": null,
   "metadata": {},
   "outputs": [],
   "source": []
  }
 ],
 "metadata": {
  "kernelspec": {
   "display_name": "Python 3",
   "language": "python",
   "name": "python3"
  },
  "language_info": {
   "codemirror_mode": {
    "name": "ipython",
    "version": 3
   },
   "file_extension": ".py",
   "mimetype": "text/x-python",
   "name": "python",
   "nbconvert_exporter": "python",
   "pygments_lexer": "ipython3",
   "version": "3.12.3"
  }
 },
 "nbformat": 4,
 "nbformat_minor": 2
}
