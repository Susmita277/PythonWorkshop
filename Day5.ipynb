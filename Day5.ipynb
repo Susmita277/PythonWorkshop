{
 "cells": [
  {
   "cell_type": "code",
   "execution_count": 17,
   "metadata": {},
   "outputs": [
    {
     "name": "stdout",
     "output_type": "stream",
     "text": [
      "name:susmita\n",
      "height:5\n",
      "weight:40\n",
      "gender:F\n",
      "age:18\n",
      "salary:50000\n",
      "\n",
      "\n",
      "name:prajita\n",
      "height:4\n",
      "weight:50\n",
      "gender:F\n",
      "age:20\n",
      "salary:40000\n",
      "\n",
      "\n",
      "name:prajwal\n",
      "height:6\n",
      "weight:70\n",
      "gender:M\n",
      "age:21\n",
      "salary:60000\n",
      "\n",
      "\n",
      "Happy birthday!.Your age is 19\n",
      "your salary is:50000\n"
     ]
    }
   ],
   "source": [
    "class Person:\n",
    "   def __init__(self,name,height,weight,gender,age,salary):\n",
    "    self.name=name\n",
    "    self.height=height\n",
    "    self.weight= weight\n",
    "    self.gender=gender\n",
    "    self.age=age\n",
    "    self.salary=salary\n",
    "    \n",
    "    \n",
    "   def display_info(self):\n",
    "        print(f'name:{self.name}')\n",
    "        print(f'height:{self.height}')\n",
    "        print(f'weight:{self.weight}')\n",
    "        print(f'gender:{self.gender}')\n",
    "        print(f'age:{self.age}')\n",
    "        print(f'salary:{self.salary}')\n",
    "        print('\\n')\n",
    "    \n",
    "   def have_birthday(self):\n",
    "     self.age=self.age+1\n",
    "     print(f'Happy birthday!.Your age is {self.age}')\n",
    "        \n",
    "   \n",
    "   def monthly_salary(self):\n",
    "       self.salary=self.salary\n",
    "       print(f'your salary is:{self.salary}')\n",
    "  \n",
    "person1 =Person('susmita',5,40,'F',18,50000)     \n",
    "person2 =Person('prajita',4,50,'F',20,40000)     \n",
    "person3 =Person('prajwal',6,70,'M',21,60000)  \n",
    " \n",
    "person1.display_info() \n",
    "person2.display_info() \n",
    "person3.display_info() \n",
    "\n",
    "person1.have_birthday()\n",
    "person1.monthly_salary()"
   ]
  }
 ],
 "metadata": {
  "kernelspec": {
   "display_name": "Python 3",
   "language": "python",
   "name": "python3"
  },
  "language_info": {
   "codemirror_mode": {
    "name": "ipython",
    "version": 3
   },
   "file_extension": ".py",
   "mimetype": "text/x-python",
   "name": "python",
   "nbconvert_exporter": "python",
   "pygments_lexer": "ipython3",
   "version": "3.12.3"
  }
 },
 "nbformat": 4,
 "nbformat_minor": 2
}
